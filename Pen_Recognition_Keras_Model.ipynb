{
  "nbformat": 4,
  "nbformat_minor": 0,
  "metadata": {
    "colab": {
      "name": "Pen Recognition Keras Model.ipynb",
      "provenance": []
    },
    "kernelspec": {
      "name": "python3",
      "display_name": "Python 3"
    },
    "accelerator": "GPU"
  },
  "cells": [
    {
      "cell_type": "code",
      "metadata": {
        "id": "w-XQFiNQ5-xa",
        "colab_type": "code",
        "outputId": "55dcc151-db69-4be9-d8b0-64b13c8550fd",
        "colab": {
          "base_uri": "https://localhost:8080/",
          "height": 262
        }
      },
      "source": [
        "import numpy as np\n",
        "import pandas as pd\n",
        "import tensorflow as tf\n",
        "from tensorflow import keras\n",
        "from sklearn import preprocessing as pr \n",
        "\n",
        "dataset = pd.read_csv(\"https://ocw.mit.edu/courses/sloan-school-of-management/15-097-prediction-machine-learning-and-statistics-spring-2012/datasets/digits.csv\")\n",
        "datasetArray = np.array(dataset)\n",
        "xfData = pr.normalize(datasetArray.T[0:-1].T)\n",
        "yfData = datasetArray.T[-1]\n",
        "yfData = yfData.T\n",
        "yData = np.zeros((yfData.shape[0], 10))\n",
        "for i in range(yfData.shape[0]):\n",
        "  yData[i][yfData[i]] = 1\n",
        "\n",
        "amountOfData = 9000\n",
        "trainingData = xfData[0:amountOfData]\n",
        "testingData = xfData[amountOfData:]\n",
        "\n",
        "trainingLabels = yData[0:amountOfData]   \n",
        "testingLabels = yData[amountOfData:]\n",
        "\n",
        "model = keras.Sequential([\n",
        "    keras.layers.Dense(16, activation=tf.nn.relu),\n",
        "    keras.layers.Dense(50, activation=tf.nn.relu),\n",
        "    keras.layers.Dense(10, activation=tf.nn.softmax)\n",
        "])\n",
        "\n",
        "model.compile(optimizer='adam', \n",
        "              loss='mean_squared_error',\n",
        "              metrics=['accuracy'])\n",
        "\n",
        "model.fit(trainingData, trainingLabels, epochs=6)\n",
        "\n",
        "test_loss, test_acc = model.evaluate(testingData, testingLabels)\n",
        "\n",
        "print('Test accuracy:', test_acc)"
      ],
      "execution_count": 0,
      "outputs": [
        {
          "output_type": "stream",
          "text": [
            "Epoch 1/6\n",
            "9000/9000 [==============================] - 2s 186us/sample - loss: 0.0704 - acc: 0.4794\n",
            "Epoch 2/6\n",
            "9000/9000 [==============================] - 1s 158us/sample - loss: 0.0310 - acc: 0.8316\n",
            "Epoch 3/6\n",
            "9000/9000 [==============================] - 1s 156us/sample - loss: 0.0229 - acc: 0.8579\n",
            "Epoch 4/6\n",
            "9000/9000 [==============================] - 1s 157us/sample - loss: 0.0202 - acc: 0.8711\n",
            "Epoch 5/6\n",
            "9000/9000 [==============================] - 1s 157us/sample - loss: 0.0187 - acc: 0.8813\n",
            "Epoch 6/6\n",
            "9000/9000 [==============================] - 1s 143us/sample - loss: 0.0174 - acc: 0.8888\n",
            "1991/1991 [==============================] - 0s 147us/sample - loss: 0.0159 - acc: 0.9021\n",
            "Test accuracy: 0.90205926\n"
          ],
          "name": "stdout"
        }
      ]
    },
    {
      "cell_type": "code",
      "metadata": {
        "colab_type": "code",
        "id": "QcvFgRpQ-Xfp",
        "colab": {}
      },
      "source": [
        "xDatadf = pd.DataFrame(xfData)\n",
        "xDatadf"
      ],
      "execution_count": 0,
      "outputs": []
    },
    {
      "cell_type": "code",
      "metadata": {
        "id": "f2AsdFed95FQ",
        "colab_type": "code",
        "outputId": "e0af3e4e-ca30-4cce-bd77-16160341ea3e",
        "colab": {
          "base_uri": "https://localhost:8080/",
          "height": 34
        }
      },
      "source": [
        "testingLabels"
      ],
      "execution_count": 0,
      "outputs": [
        {
          "output_type": "execute_result",
          "data": {
            "text/plain": [
              "array([], shape=(0, 10), dtype=float64)"
            ]
          },
          "metadata": {
            "tags": []
          },
          "execution_count": 6
        }
      ]
    }
  ]
}