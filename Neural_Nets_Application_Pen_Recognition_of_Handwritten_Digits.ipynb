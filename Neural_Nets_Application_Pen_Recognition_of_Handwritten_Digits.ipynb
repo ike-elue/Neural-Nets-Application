{
  "nbformat": 4,
  "nbformat_minor": 0,
  "metadata": {
    "colab": {
      "name": "Neural Nets Application - Pen Recognition of Handwritten Digits.ipynb",
      "provenance": [],
      "collapsed_sections": []
    },
    "kernelspec": {
      "name": "python3",
      "display_name": "Python 3"
    }
  },
  "cells": [
    {
      "cell_type": "markdown",
      "metadata": {
        "id": "Tu_O6JzzaDu5",
        "colab_type": "text"
      },
      "source": [
        "This is where I got the dataset: https://ocw.mit.edu/courses/sloan-school-of-management/15-097-prediction-machine-learning-and-statistics-spring-2012/datasets/"
      ]
    },
    {
      "cell_type": "code",
      "metadata": {
        "id": "zhz1z-gFbYfE",
        "colab_type": "code",
        "colab": {}
      },
      "source": [
        "import numpy as np\n",
        "import pandas as pd"
      ],
      "execution_count": 0,
      "outputs": []
    },
    {
      "cell_type": "markdown",
      "metadata": {
        "id": "Q76_8vbyaNR9",
        "colab_type": "text"
      },
      "source": [
        "This is how we will organize the input data"
      ]
    },
    {
      "cell_type": "code",
      "metadata": {
        "id": "cIXToXqCZkR_",
        "colab_type": "code",
        "outputId": "75caa633-7467-4481-f125-2dc01d031753",
        "colab": {
          "base_uri": "https://localhost:8080/",
          "height": 51
        }
      },
      "source": [
        "# Changing center of randomness + learning rate improves network\n",
        "\n",
        "dataset = pd.read_csv(\"https://ocw.mit.edu/courses/sloan-school-of-management/15-097-prediction-machine-learning-and-statistics-spring-2012/datasets/digits.csv\")\n",
        "datasetArray = np.array(dataset)\n",
        "xfData = datasetArray.T[0:-1].T\n",
        "amountOfData = 100\n",
        "xData = xfData[0:amountOfData] # amount of data x 16\n",
        "print(xData.shape)\n",
        "yfData = datasetArray.T[-1]\n",
        "yfData = yfData.T[0:xData.shape[0]]\n",
        "yData = np.zeros((yfData.shape[0], 10))\n",
        "print(yData.shape) #amount of data x 10\n",
        "for i in range(yfData.shape[0]):\n",
        "  yData[i][yfData[i]] = 1"
      ],
      "execution_count": 0,
      "outputs": [
        {
          "output_type": "stream",
          "text": [
            "(100, 16)\n",
            "(100, 10)\n"
          ],
          "name": "stdout"
        }
      ]
    },
    {
      "cell_type": "code",
      "metadata": {
        "id": "kJDWalNeaUcu",
        "colab_type": "code",
        "colab": {}
      },
      "source": [
        "def activate(x,deriv=False):\n",
        "  if(deriv==True):\n",
        "    return x*(1-x)\n",
        "  return 1/(1+np.exp(-x))"
      ],
      "execution_count": 0,
      "outputs": []
    },
    {
      "cell_type": "code",
      "metadata": {
        "id": "eKiOEXfDa8UK",
        "colab_type": "code",
        "colab": {}
      },
      "source": [
        "np.random.seed(2)"
      ],
      "execution_count": 0,
      "outputs": []
    },
    {
      "cell_type": "code",
      "metadata": {
        "id": "V5hvq7e7jaaM",
        "colab_type": "code",
        "colab": {}
      },
      "source": [
        "learning_rate = .01\n",
        "hiddenNeurons = 20\n",
        "input_hidden = 2 * np.random.rand(16, hiddenNeurons) - 1 # 16 x hiddenNeurons\n",
        "hidden_output = 2 * np.random.rand(hiddenNeurons, 10) - 1# hiddenNeurons x 10"
      ],
      "execution_count": 0,
      "outputs": []
    },
    {
      "cell_type": "code",
      "metadata": {
        "id": "pGkOfOGrm62w",
        "colab_type": "code",
        "outputId": "363b3515-09ad-4882-956d-c3c8bdd8f0ae",
        "colab": {
          "base_uri": "https://localhost:8080/",
          "height": 119
        }
      },
      "source": [
        "for i in range(50001):\n",
        "  # Feedforward Pass\n",
        "  hiddenLayer = np.dot(xData, input_hidden) # amount of data x hiddenNeurons\n",
        "  activated_hiddenLayer = activate(hiddenLayer) # ^\n",
        "  z = np.dot(activated_hiddenLayer, hidden_output) # amount of data x 10\n",
        "  a = activate(z) # ^\n",
        "  # Error\n",
        "  error = yData - a # ^\n",
        "  c = .5 *(error) ** 2 # mean_squared_error ^\n",
        "  if(i % 10000 == 0):\n",
        "    print(\"Error:\", np.sum(c))\n",
        "  # Backward Pass\n",
        "  dCdz = error * activate(a, True) # ^\n",
        "  dCdw = np.dot(activated_hiddenLayer.T, dCdz) # hiddenNeurons x 10\n",
        "  dCdz2 = np.dot(dCdz, hidden_output.T) * activate(activated_hiddenLayer, True) # amount of data x hiddenNeurons\n",
        "  dCdw2 = np.dot(xData.T, dCdz2) # 16 x hiddenNeurons\n",
        "  input_hidden += dCdw2 * learning_rate\n",
        "  hidden_output += dCdw * learning_rate"
      ],
      "execution_count": 0,
      "outputs": [
        {
          "output_type": "stream",
          "text": [
            "Error: 104.61631187751397\n",
            "Error: 6.868877385824057\n",
            "Error: 7.682876096906244\n",
            "Error: 6.570393747079278\n",
            "Error: 19.547512392223762\n",
            "Error: 19.14111741014392\n"
          ],
          "name": "stdout"
        }
      ]
    }
  ]
}